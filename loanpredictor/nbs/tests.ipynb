{
 "cells": [
  {
   "cell_type": "code",
   "execution_count": null,
   "id": "033a18ed",
   "metadata": {},
   "outputs": [],
   "source": [
    "from django_for_jupyter import init_django\n",
    "init_django('loanpredictor')"
   ]
  },
  {
   "cell_type": "code",
   "execution_count": null,
   "id": "d39d37d7",
   "metadata": {},
   "outputs": [],
   "source": [
    "from loans.models import Loan\n",
    "import pandas as pd\n",
    "from sklearn import preprocessing"
   ]
  },
  {
   "cell_type": "code",
   "execution_count": null,
   "id": "9ba16c11",
   "metadata": {},
   "outputs": [],
   "source": [
    "qs = Loan.objects.ml_data()\n",
    "qs = qs.values('state', 'term', 'no_emp','created_jobs','retained_jobs', \n",
    "                     'gross_appv', 'recession', 'secured_loan', 'gov_secured',\n",
    "                     'is_rural', 'low_doc', 'new_business', 'econ_sector',\n",
    "                     'inflation_on_loan','unemployment_on_loan', 'defaulted')"
   ]
  },
  {
   "cell_type": "code",
   "execution_count": null,
   "id": "6f5ee805",
   "metadata": {},
   "outputs": [],
   "source": [
    "df = pd.DataFrame(qs)\n",
    "df.head()"
   ]
  },
  {
   "cell_type": "code",
   "execution_count": null,
   "id": "ebcf2c99",
   "metadata": {},
   "outputs": [],
   "source": [
    "df.shape"
   ]
  },
  {
   "cell_type": "code",
   "execution_count": null,
   "id": "c044aad4",
   "metadata": {},
   "outputs": [],
   "source": [
    "df = pd.DataFrame(qs)\n",
    "lb = preprocessing.LabelBinarizer()\n",
    "objList = df.select_dtypes(include = \"bool\").columns\n",
    "for feature in objList:\n",
    "    df[feature] = lb.fit_transform(df[feature])\n",
    "\n",
    "df['gov_secured'] = df['gov_secured'].astype(float)\n",
    "df['gross_appv'] = df['gross_appv'].astype(float)"
   ]
  },
  {
   "cell_type": "code",
   "execution_count": null,
   "id": "cdfa7989",
   "metadata": {},
   "outputs": [],
   "source": [
    "df.info()"
   ]
  },
  {
   "cell_type": "code",
   "execution_count": null,
   "id": "1f9c880e",
   "metadata": {},
   "outputs": [],
   "source": [
    "import xgboost as xgb\n",
    "from skopt import BayesSearchCV\n",
    "from skopt.space import Real, Integer\n",
    "from sklearn.model_selection import train_test_split"
   ]
  },
  {
   "cell_type": "code",
   "execution_count": null,
   "id": "9ec7a943",
   "metadata": {},
   "outputs": [],
   "source": [
    "\n",
    "X, y = df.drop(['defaulted'], axis= 1), df['defaulted']\n",
    "X_train, X_test, y_train, y_test = train_test_split(X, y, test_size=.2)\n",
    "\n",
    "bst = xgb.XGBClassifier() \n",
    "search_space = {\n",
    "    'max_depth': Integer(3,10),\n",
    "    'min_child_weight': Integer(0, 20),\n",
    "    'learning_rate': Real(0.05, 1), \n",
    "    'subsample': Real(0.5, 1.0),\n",
    "    'colsample_bytree': Real(0.5, 1.0),\n",
    "    'colsample_bylevel': Real(0.5, 1.0),\n",
    "    'colsample_bynode' : Real(0.5, 1.0),\n",
    "    'alpha': Real(0.0, 10.0),\n",
    "    'reg_lambda': Real(0.0, 10.0),\n",
    "    'gamma': Real(0.0, 5),\n",
    "    }\n"
   ]
  },
  {
   "cell_type": "code",
   "execution_count": null,
   "id": "edcd523b",
   "metadata": {},
   "outputs": [],
   "source": [
    "opt = BayesSearchCV(bst, search_space, cv=5, n_iter=1, scoring='recall', random_state=8) "
   ]
  },
  {
   "cell_type": "code",
   "execution_count": null,
   "id": "1f8c5e63",
   "metadata": {},
   "outputs": [],
   "source": [
    "opt.fit(X_train, y_train)"
   ]
  },
  {
   "cell_type": "code",
   "execution_count": null,
   "id": "3dddc14a",
   "metadata": {},
   "outputs": [],
   "source": [
    "xgb_params = opt.best_params_"
   ]
  },
  {
   "cell_type": "code",
   "execution_count": null,
   "id": "128d4500",
   "metadata": {},
   "outputs": [],
   "source": [
    "xgb_params"
   ]
  },
  {
   "cell_type": "code",
   "execution_count": null,
   "id": "36e41a01",
   "metadata": {},
   "outputs": [],
   "source": [
    "model = xgb.XGBClassifier(**xgb_params)\n",
    "model.fit(X_train, y_train)"
   ]
  },
  {
   "cell_type": "code",
   "execution_count": null,
   "id": "1dbb248e",
   "metadata": {},
   "outputs": [],
   "source": [
    "import pickle\n",
    "binary_data = pickle.dumps(model)"
   ]
  },
  {
   "cell_type": "code",
   "execution_count": null,
   "id": "e6b00cb2",
   "metadata": {},
   "outputs": [],
   "source": [
    "binary_data"
   ]
  },
  {
   "cell_type": "code",
   "execution_count": 1,
   "id": "e91450f5",
   "metadata": {},
   "outputs": [],
   "source": [
    "from django_for_jupyter import init_django\n",
    "init_django('loanpredictor')\n",
    "from ml.utlis import train_xgboost_model"
   ]
  },
  {
   "cell_type": "code",
   "execution_count": 2,
   "id": "9ff07160",
   "metadata": {},
   "outputs": [],
   "source": [
    "import pickle\n",
    "from datetime import date, datetime\n",
    "\n",
    "from django.core.files.base import File\n",
    "from django.conf import settings\n",
    "from django.apps import apps\n",
    "from ml.models import Model\n",
    "\n",
    "import pandas as pd\n",
    "import numpy as np\n",
    "from sklearn.model_selection import train_test_split\n",
    "from sklearn.metrics import recall_score, precision_score, accuracy_score\n",
    "from sklearn.preprocessing import LabelBinarizer\n",
    "import xgboost as xgb\n",
    "from skopt import BayesSearchCV\n",
    "from skopt.space import Real, Integer"
   ]
  },
  {
   "cell_type": "code",
   "execution_count": 8,
   "id": "640af12c",
   "metadata": {},
   "outputs": [
    {
     "data": {
      "text/plain": [
       "'1.23.5'"
      ]
     },
     "execution_count": 8,
     "metadata": {},
     "output_type": "execute_result"
    }
   ],
   "source": [
    "np.version.version"
   ]
  },
  {
   "cell_type": "code",
   "execution_count": 4,
   "id": "96520038",
   "metadata": {},
   "outputs": [],
   "source": [
    "from loans.models import Loan\n",
    "qs = Loan.objects.ml_data()\n",
    "qs = qs.values('state', 'term', 'no_emp','created_jobs','retained_jobs', \n",
    "                    'gross_appv', 'recession', 'secured_loan', 'gov_secured',\n",
    "                    'is_rural', 'low_doc', 'new_business', 'econ_sector',\n",
    "                    'inflation_on_loan','unemployment_on_loan', 'defaulted')"
   ]
  },
  {
   "cell_type": "code",
   "execution_count": null,
   "id": "8d90942e",
   "metadata": {},
   "outputs": [],
   "source": []
  },
  {
   "cell_type": "code",
   "execution_count": 6,
   "id": "05b4141f",
   "metadata": {},
   "outputs": [
    {
     "data": {
      "text/plain": [
       "<bound method NDFrame.head of         state  term  no_emp  created_jobs  retained_jobs  gross_appv   \n",
       "0          26     6      30             0             30    210000.0  \\\n",
       "1          24     3      10             0             10      5000.0   \n",
       "2          17     5       4             8             12    100000.0   \n",
       "3          19     3      20             0             20     50000.0   \n",
       "4          30     6      18            15             18    100000.0   \n",
       "...       ...   ...     ...           ...            ...         ...   \n",
       "677446     14    60      11             0              0     85000.0   \n",
       "677447      5   318       3             0              0     52500.0   \n",
       "677448     35    84      34             0              0    150000.0   \n",
       "677449     34   162      20             0              0    100000.0   \n",
       "677450     38   246       0             0              0     27200.0   \n",
       "\n",
       "        recession  secured_loan  gov_secured  is_rural  low_doc  new_business   \n",
       "0               0             0         75.0         1        0             0  \\\n",
       "1               0             0         50.0         1        0             1   \n",
       "2               0             0         50.0         0        0             0   \n",
       "3               0             0         50.0         0        0             0   \n",
       "4               0             0         85.0         1        0             0   \n",
       "...           ...           ...          ...       ...      ...           ...   \n",
       "677446          0             0         90.0         0        0             0   \n",
       "677447          0             1         90.0         0        0             0   \n",
       "677448          0             0         90.0         0        0             0   \n",
       "677449          0             0         90.0         0        0             0   \n",
       "677450          0             1         90.0         0        0             1   \n",
       "\n",
       "        econ_sector  inflation_on_loan  unemployment_on_loan  defaulted  \n",
       "0                 3                  0                     1          0  \n",
       "1                15                  0                     1          0  \n",
       "2                 3                  0                     1          0  \n",
       "3                 6                  0                     1          0  \n",
       "4                18                  0                     1          0  \n",
       "...             ...                ...                   ...        ...  \n",
       "677446            6                  1                     1          1  \n",
       "677447            6                  1                     1          1  \n",
       "677448            6                  1                     1          1  \n",
       "677449            6                  1                     1          1  \n",
       "677450            6                  1                     1          0  \n",
       "\n",
       "[677451 rows x 16 columns]>"
      ]
     },
     "execution_count": 6,
     "metadata": {},
     "output_type": "execute_result"
    }
   ],
   "source": [
    "df = pd.DataFrame(qs)\n",
    "lb = LabelBinarizer()\n",
    "objList = df.select_dtypes(include = \"bool\").columns\n",
    "for feature in objList:\n",
    "    df[feature] = lb.fit_transform(df[feature])\n",
    "objList = df.select_dtypes(include = \"int32\").columns\n",
    "for feature in objList:\n",
    "    df[feature] = df[feature].astype(int)\n",
    "objList = df.select_dtypes(include = \"int64\").columns\n",
    "for feature in objList:\n",
    "    df[feature] = df[feature].astype(int)\n",
    "df['gov_secured'] = df['gov_secured'].astype(float)\n",
    "df['gross_appv'] = df['gross_appv'].astype(float)\n",
    "df.head()"
   ]
  },
  {
   "cell_type": "code",
   "execution_count": 7,
   "id": "b3ba419b",
   "metadata": {},
   "outputs": [],
   "source": [
    "X, y = df.drop(['defaulted'], axis= 1), df['defaulted']\n",
    "X_train, X_test, y_train, y_test = train_test_split(X, y, test_size=.2)"
   ]
  },
  {
   "cell_type": "code",
   "execution_count": 8,
   "id": "cf59ecc4",
   "metadata": {},
   "outputs": [],
   "source": [
    "bst = xgb.XGBClassifier() \n",
    "#Adjust Search Grid\n",
    "search_space = {\n",
    "    'max_depth': Integer(3,10),\n",
    "    'min_child_weight': Integer(0, 20),\n",
    "    'learning_rate': Real(0.05, 1), \n",
    "    'subsample': Real(0.5, 1.0),\n",
    "    'colsample_bytree': Real(0.5, 1.0),\n",
    "    'colsample_bylevel': Real(0.5, 1.0),\n",
    "    'colsample_bynode' : Real(0.5, 1.0),\n",
    "    'alpha': Real(0.0, 10.0),\n",
    "    'reg_lambda': Real(0.0, 10.0),\n",
    "    'gamma': Real(0.0, 5),\n",
    "    }\n",
    "opt = BayesSearchCV(bst, search_space, cv=5, n_iter=1, scoring='recall')"
   ]
  },
  {
   "cell_type": "code",
   "execution_count": 9,
   "id": "07807634",
   "metadata": {},
   "outputs": [
    {
     "data": {
      "text/html": [
       "<style>#sk-container-id-1 {color: black;background-color: white;}#sk-container-id-1 pre{padding: 0;}#sk-container-id-1 div.sk-toggleable {background-color: white;}#sk-container-id-1 label.sk-toggleable__label {cursor: pointer;display: block;width: 100%;margin-bottom: 0;padding: 0.3em;box-sizing: border-box;text-align: center;}#sk-container-id-1 label.sk-toggleable__label-arrow:before {content: \"▸\";float: left;margin-right: 0.25em;color: #696969;}#sk-container-id-1 label.sk-toggleable__label-arrow:hover:before {color: black;}#sk-container-id-1 div.sk-estimator:hover label.sk-toggleable__label-arrow:before {color: black;}#sk-container-id-1 div.sk-toggleable__content {max-height: 0;max-width: 0;overflow: hidden;text-align: left;background-color: #f0f8ff;}#sk-container-id-1 div.sk-toggleable__content pre {margin: 0.2em;color: black;border-radius: 0.25em;background-color: #f0f8ff;}#sk-container-id-1 input.sk-toggleable__control:checked~div.sk-toggleable__content {max-height: 200px;max-width: 100%;overflow: auto;}#sk-container-id-1 input.sk-toggleable__control:checked~label.sk-toggleable__label-arrow:before {content: \"▾\";}#sk-container-id-1 div.sk-estimator input.sk-toggleable__control:checked~label.sk-toggleable__label {background-color: #d4ebff;}#sk-container-id-1 div.sk-label input.sk-toggleable__control:checked~label.sk-toggleable__label {background-color: #d4ebff;}#sk-container-id-1 input.sk-hidden--visually {border: 0;clip: rect(1px 1px 1px 1px);clip: rect(1px, 1px, 1px, 1px);height: 1px;margin: -1px;overflow: hidden;padding: 0;position: absolute;width: 1px;}#sk-container-id-1 div.sk-estimator {font-family: monospace;background-color: #f0f8ff;border: 1px dotted black;border-radius: 0.25em;box-sizing: border-box;margin-bottom: 0.5em;}#sk-container-id-1 div.sk-estimator:hover {background-color: #d4ebff;}#sk-container-id-1 div.sk-parallel-item::after {content: \"\";width: 100%;border-bottom: 1px solid gray;flex-grow: 1;}#sk-container-id-1 div.sk-label:hover label.sk-toggleable__label {background-color: #d4ebff;}#sk-container-id-1 div.sk-serial::before {content: \"\";position: absolute;border-left: 1px solid gray;box-sizing: border-box;top: 0;bottom: 0;left: 50%;z-index: 0;}#sk-container-id-1 div.sk-serial {display: flex;flex-direction: column;align-items: center;background-color: white;padding-right: 0.2em;padding-left: 0.2em;position: relative;}#sk-container-id-1 div.sk-item {position: relative;z-index: 1;}#sk-container-id-1 div.sk-parallel {display: flex;align-items: stretch;justify-content: center;background-color: white;position: relative;}#sk-container-id-1 div.sk-item::before, #sk-container-id-1 div.sk-parallel-item::before {content: \"\";position: absolute;border-left: 1px solid gray;box-sizing: border-box;top: 0;bottom: 0;left: 50%;z-index: -1;}#sk-container-id-1 div.sk-parallel-item {display: flex;flex-direction: column;z-index: 1;position: relative;background-color: white;}#sk-container-id-1 div.sk-parallel-item:first-child::after {align-self: flex-end;width: 50%;}#sk-container-id-1 div.sk-parallel-item:last-child::after {align-self: flex-start;width: 50%;}#sk-container-id-1 div.sk-parallel-item:only-child::after {width: 0;}#sk-container-id-1 div.sk-dashed-wrapped {border: 1px dashed gray;margin: 0 0.4em 0.5em 0.4em;box-sizing: border-box;padding-bottom: 0.4em;background-color: white;}#sk-container-id-1 div.sk-label label {font-family: monospace;font-weight: bold;display: inline-block;line-height: 1.2em;}#sk-container-id-1 div.sk-label-container {text-align: center;}#sk-container-id-1 div.sk-container {/* jupyter's `normalize.less` sets `[hidden] { display: none; }` but bootstrap.min.css set `[hidden] { display: none !important; }` so we also need the `!important` here to be able to override the default hidden behavior on the sphinx rendered scikit-learn.org. See: https://github.com/scikit-learn/scikit-learn/issues/21755 */display: inline-block !important;position: relative;}#sk-container-id-1 div.sk-text-repr-fallback {display: none;}</style><div id=\"sk-container-id-1\" class=\"sk-top-container\"><div class=\"sk-text-repr-fallback\"><pre>BayesSearchCV(cv=5,\n",
       "              estimator=XGBClassifier(base_score=None, booster=None,\n",
       "                                      callbacks=None, colsample_bylevel=None,\n",
       "                                      colsample_bynode=None,\n",
       "                                      colsample_bytree=None,\n",
       "                                      early_stopping_rounds=None,\n",
       "                                      enable_categorical=False,\n",
       "                                      eval_metric=None, feature_types=None,\n",
       "                                      gamma=None, gpu_id=None, grow_policy=None,\n",
       "                                      importance_type=None,\n",
       "                                      interaction_constraints=None,\n",
       "                                      learning_rate=None...\n",
       "                             &#x27;learning_rate&#x27;: Real(low=0.05, high=1, prior=&#x27;uniform&#x27;, transform=&#x27;normalize&#x27;),\n",
       "                             &#x27;max_depth&#x27;: Integer(low=3, high=10, prior=&#x27;uniform&#x27;, transform=&#x27;normalize&#x27;),\n",
       "                             &#x27;min_child_weight&#x27;: Integer(low=0, high=20, prior=&#x27;uniform&#x27;, transform=&#x27;normalize&#x27;),\n",
       "                             &#x27;reg_lambda&#x27;: Real(low=0.0, high=10.0, prior=&#x27;uniform&#x27;, transform=&#x27;normalize&#x27;),\n",
       "                             &#x27;subsample&#x27;: Real(low=0.5, high=1.0, prior=&#x27;uniform&#x27;, transform=&#x27;normalize&#x27;)})</pre><b>In a Jupyter environment, please rerun this cell to show the HTML representation or trust the notebook. <br />On GitHub, the HTML representation is unable to render, please try loading this page with nbviewer.org.</b></div><div class=\"sk-container\" hidden><div class=\"sk-item sk-dashed-wrapped\"><div class=\"sk-label-container\"><div class=\"sk-label sk-toggleable\"><input class=\"sk-toggleable__control sk-hidden--visually\" id=\"sk-estimator-id-1\" type=\"checkbox\" ><label for=\"sk-estimator-id-1\" class=\"sk-toggleable__label sk-toggleable__label-arrow\">BayesSearchCV</label><div class=\"sk-toggleable__content\"><pre>BayesSearchCV(cv=5,\n",
       "              estimator=XGBClassifier(base_score=None, booster=None,\n",
       "                                      callbacks=None, colsample_bylevel=None,\n",
       "                                      colsample_bynode=None,\n",
       "                                      colsample_bytree=None,\n",
       "                                      early_stopping_rounds=None,\n",
       "                                      enable_categorical=False,\n",
       "                                      eval_metric=None, feature_types=None,\n",
       "                                      gamma=None, gpu_id=None, grow_policy=None,\n",
       "                                      importance_type=None,\n",
       "                                      interaction_constraints=None,\n",
       "                                      learning_rate=None...\n",
       "                             &#x27;learning_rate&#x27;: Real(low=0.05, high=1, prior=&#x27;uniform&#x27;, transform=&#x27;normalize&#x27;),\n",
       "                             &#x27;max_depth&#x27;: Integer(low=3, high=10, prior=&#x27;uniform&#x27;, transform=&#x27;normalize&#x27;),\n",
       "                             &#x27;min_child_weight&#x27;: Integer(low=0, high=20, prior=&#x27;uniform&#x27;, transform=&#x27;normalize&#x27;),\n",
       "                             &#x27;reg_lambda&#x27;: Real(low=0.0, high=10.0, prior=&#x27;uniform&#x27;, transform=&#x27;normalize&#x27;),\n",
       "                             &#x27;subsample&#x27;: Real(low=0.5, high=1.0, prior=&#x27;uniform&#x27;, transform=&#x27;normalize&#x27;)})</pre></div></div></div><div class=\"sk-parallel\"><div class=\"sk-parallel-item\"><div class=\"sk-item\"><div class=\"sk-label-container\"><div class=\"sk-label sk-toggleable\"><input class=\"sk-toggleable__control sk-hidden--visually\" id=\"sk-estimator-id-2\" type=\"checkbox\" ><label for=\"sk-estimator-id-2\" class=\"sk-toggleable__label sk-toggleable__label-arrow\">estimator: XGBClassifier</label><div class=\"sk-toggleable__content\"><pre>XGBClassifier(base_score=None, booster=None, callbacks=None,\n",
       "              colsample_bylevel=None, colsample_bynode=None,\n",
       "              colsample_bytree=None, early_stopping_rounds=None,\n",
       "              enable_categorical=False, eval_metric=None, feature_types=None,\n",
       "              gamma=None, gpu_id=None, grow_policy=None, importance_type=None,\n",
       "              interaction_constraints=None, learning_rate=None, max_bin=None,\n",
       "              max_cat_threshold=None, max_cat_to_onehot=None,\n",
       "              max_delta_step=None, max_depth=None, max_leaves=None,\n",
       "              min_child_weight=None, missing=nan, monotone_constraints=None,\n",
       "              n_estimators=100, n_jobs=None, num_parallel_tree=None,\n",
       "              predictor=None, random_state=None, ...)</pre></div></div></div><div class=\"sk-serial\"><div class=\"sk-item\"><div class=\"sk-estimator sk-toggleable\"><input class=\"sk-toggleable__control sk-hidden--visually\" id=\"sk-estimator-id-3\" type=\"checkbox\" ><label for=\"sk-estimator-id-3\" class=\"sk-toggleable__label sk-toggleable__label-arrow\">XGBClassifier</label><div class=\"sk-toggleable__content\"><pre>XGBClassifier(base_score=None, booster=None, callbacks=None,\n",
       "              colsample_bylevel=None, colsample_bynode=None,\n",
       "              colsample_bytree=None, early_stopping_rounds=None,\n",
       "              enable_categorical=False, eval_metric=None, feature_types=None,\n",
       "              gamma=None, gpu_id=None, grow_policy=None, importance_type=None,\n",
       "              interaction_constraints=None, learning_rate=None, max_bin=None,\n",
       "              max_cat_threshold=None, max_cat_to_onehot=None,\n",
       "              max_delta_step=None, max_depth=None, max_leaves=None,\n",
       "              min_child_weight=None, missing=nan, monotone_constraints=None,\n",
       "              n_estimators=100, n_jobs=None, num_parallel_tree=None,\n",
       "              predictor=None, random_state=None, ...)</pre></div></div></div></div></div></div></div></div></div></div>"
      ],
      "text/plain": [
       "BayesSearchCV(cv=5,\n",
       "              estimator=XGBClassifier(base_score=None, booster=None,\n",
       "                                      callbacks=None, colsample_bylevel=None,\n",
       "                                      colsample_bynode=None,\n",
       "                                      colsample_bytree=None,\n",
       "                                      early_stopping_rounds=None,\n",
       "                                      enable_categorical=False,\n",
       "                                      eval_metric=None, feature_types=None,\n",
       "                                      gamma=None, gpu_id=None, grow_policy=None,\n",
       "                                      importance_type=None,\n",
       "                                      interaction_constraints=None,\n",
       "                                      learning_rate=None...\n",
       "                             'learning_rate': Real(low=0.05, high=1, prior='uniform', transform='normalize'),\n",
       "                             'max_depth': Integer(low=3, high=10, prior='uniform', transform='normalize'),\n",
       "                             'min_child_weight': Integer(low=0, high=20, prior='uniform', transform='normalize'),\n",
       "                             'reg_lambda': Real(low=0.0, high=10.0, prior='uniform', transform='normalize'),\n",
       "                             'subsample': Real(low=0.5, high=1.0, prior='uniform', transform='normalize')})"
      ]
     },
     "execution_count": 9,
     "metadata": {},
     "output_type": "execute_result"
    }
   ],
   "source": [
    "opt.fit(X_train.to_numpy(), y_train.ravel())"
   ]
  },
  {
   "cell_type": "code",
   "execution_count": null,
   "id": "8f4dc00a",
   "metadata": {},
   "outputs": [],
   "source": [
    "xgb_params = opt.best_params_\n",
    "model = xgb.XGBClassifier(**xgb_params)\n",
    "model.fit(X_train, y_train)\n",
    "y_pred = model.predict(X_test)\n",
    "recall = recall_score(y_pred, y_test, pos_label=1)\n",
    "precision = precision_score(y_pred, y_test, pos_label=1)\n",
    "accuracy = accuracy_score(y_pred, y_test)\n",
    "acc_label = round((100* accuracy),2)"
   ]
  },
  {
   "cell_type": "code",
   "execution_count": null,
   "id": "4e6fec39",
   "metadata": {},
   "outputs": [],
   "source": [
    "opt.fit(X_train, y_train)\n"
   ]
  },
  {
   "cell_type": "code",
   "execution_count": 4,
   "id": "d191d229",
   "metadata": {},
   "outputs": [
    {
     "name": "stdout",
     "output_type": "stream",
     "text": [
      "677451 loans were loaded for training.\n",
      "Bayes Search was performed successfully\n",
      "Model was trained successfully\n",
      "New model: model-93.57-2023-05-06, successfully created\n"
     ]
    }
   ],
   "source": [
    "from django_for_jupyter import init_django\n",
    "init_django('loanpredictor')\n",
    "from ml.utlis import train_xgboost_model\n",
    "train_xgboost_model(cv=5, n_iter=1, scoring='recall', verbose=True)"
   ]
  },
  {
   "cell_type": "code",
   "execution_count": 1,
   "id": "817cc616",
   "metadata": {},
   "outputs": [],
   "source": [
    "from django_for_jupyter import init_django\n",
    "init_django('loanpredictor')\n"
   ]
  },
  {
   "cell_type": "code",
   "execution_count": 4,
   "id": "1f2506a0",
   "metadata": {},
   "outputs": [],
   "source": [
    "from loans.models import Loan\n",
    "from dateutil.relativedelta import relativedelta\n",
    "from datetime import datetime, date\n"
   ]
  },
  {
   "cell_type": "code",
   "execution_count": 8,
   "id": "8c790cb2",
   "metadata": {},
   "outputs": [
    {
     "name": "stdout",
     "output_type": "stream",
     "text": [
      "Updated 63755 movie idx fields\n"
     ]
    }
   ],
   "source": [
    "queryset = Loan.objects.filter(active=True)\n",
    "now = date.today()\n",
    "TIME_AFTER_MATURITY_ACTIVE = 12\n",
    "updated = 0\n",
    "for obj in queryset:\n",
    "    if obj.approval_date:\n",
    "        active_frame = obj.maturity_date + relativedelta(months=+TIME_AFTER_MATURITY_ACTIVE)\n",
    "        if active_frame < now or obj.defaulted:\n",
    "            obj.active = False\n",
    "            updated += 1\n",
    "\n",
    "Loan.objects.bulk_update(queryset, ['active'])\n",
    "print(f\"Updated {updated} movie idx fields\")\n",
    "\n"
   ]
  },
  {
   "cell_type": "code",
   "execution_count": null,
   "id": "b0dfb68d",
   "metadata": {},
   "outputs": [],
   "source": [
    "import time\n",
    "from datetime import datetime\n",
    "start_time = datetime.now() \n",
    "\n",
    "time_elapsed = datetime.now() - start_time \n",
    "type(time_elapsed)\n",
    "print(time_elapsed)"
   ]
  },
  {
   "cell_type": "code",
   "execution_count": null,
   "id": "e1f5421d",
   "metadata": {},
   "outputs": [],
   "source": [
    "from ml.models import Model"
   ]
  },
  {
   "cell_type": "code",
   "execution_count": null,
   "id": "718ae0b5",
   "metadata": {},
   "outputs": [],
   "source": [
    "qs = Model.objects.all().exclude(model_id=3)"
   ]
  },
  {
   "cell_type": "code",
   "execution_count": null,
   "id": "c5692322",
   "metadata": {},
   "outputs": [],
   "source": [
    "from django.utils import timezone"
   ]
  },
  {
   "cell_type": "code",
   "execution_count": null,
   "id": "4abfeadc",
   "metadata": {},
   "outputs": [],
   "source": [
    "qs.update(active=False, active_update_timestamp=timezone.now())"
   ]
  },
  {
   "cell_type": "code",
   "execution_count": null,
   "id": "22362923",
   "metadata": {},
   "outputs": [],
   "source": [
    "import pickle\n",
    "raw_model = Model.objects.filter(active=True)\n",
    "if raw_model.exists():\n",
    "    if len(raw_model) == 1:\n",
    "        model = pickle.loads(raw_model[0].model)\n",
    "    else:\n",
    "        raw_model = raw_model.latest('created')\n",
    "        model = pickle.loads(raw_model[0].model)        \n",
    "else:\n",
    "    raw_model = Model.objects.latest('created')\n",
    "    model = pickle.loads(raw_model[0].model)"
   ]
  },
  {
   "cell_type": "code",
   "execution_count": null,
   "id": "750f2c71",
   "metadata": {},
   "outputs": [],
   "source": [
    "raw_model = Model.objects.filter(active=False)\n",
    "print(raw_model)"
   ]
  },
  {
   "cell_type": "code",
   "execution_count": null,
   "id": "3b77a502",
   "metadata": {},
   "outputs": [],
   "source": [
    "raw_model.latest('created')"
   ]
  },
  {
   "cell_type": "code",
   "execution_count": null,
   "id": "afeb19a4",
   "metadata": {},
   "outputs": [],
   "source": [
    "from django.apps import apps\n",
    "Loan = apps.get_model('loans', 'Loan')"
   ]
  },
  {
   "cell_type": "code",
   "execution_count": null,
   "id": "929f5ec9",
   "metadata": {},
   "outputs": [],
   "source": [
    "print(ctype)"
   ]
  },
  {
   "cell_type": "code",
   "execution_count": null,
   "id": "c2aaf97f",
   "metadata": {},
   "outputs": [],
   "source": [
    "Loan.objects.all()"
   ]
  },
  {
   "cell_type": "code",
   "execution_count": null,
   "id": "b50044d6",
   "metadata": {},
   "outputs": [],
   "source": [
    "from ml.utlis import load_model\n",
    "import pandas as pd"
   ]
  },
  {
   "cell_type": "code",
   "execution_count": null,
   "id": "a2f9d18c",
   "metadata": {},
   "outputs": [],
   "source": [
    "from django_for_jupyter import init_django\n",
    "init_django('loanpredictor')\n",
    "from ml.utlis import prepare_data"
   ]
  },
  {
   "cell_type": "code",
   "execution_count": null,
   "id": "61946e9b",
   "metadata": {},
   "outputs": [],
   "source": [
    "model = load_model()"
   ]
  },
  {
   "cell_type": "code",
   "execution_count": null,
   "id": "cea36692",
   "metadata": {},
   "outputs": [],
   "source": [
    "from loans.models import Loan\n",
    "qs = Loan.objects.latest('last_updated')\n",
    "loan_data = {'state': qs.state, \n",
    "                'term': qs.term, \n",
    "                'no_emp':qs.no_emp,\n",
    "                'created_jobs':qs.created_jobs,\n",
    "                'retained_jobs':qs.retained_jobs, \n",
    "                'gross_appv':qs.gross_appv, \n",
    "                'recession': qs.recession, \n",
    "                'secured_loan':qs.secured_loan, \n",
    "                'gov_secured':qs.gov_secured,\n",
    "                'is_rural':qs.is_rural, \n",
    "                'low_doc':qs.low_doc, \n",
    "                'new_business':qs.new_business, \n",
    "                'econ_sector':qs.econ_sector,\n",
    "                'inflation_on_loan':qs.inflation_on_loan,\n",
    "                'unemployment_on_loan':qs.unemployment_on_loan}\n",
    "loan_data"
   ]
  },
  {
   "cell_type": "code",
   "execution_count": null,
   "id": "5f1cf8c9",
   "metadata": {},
   "outputs": [],
   "source": [
    "df = pd.DataFrame(loan_data, index=[0])\n",
    "df.head()"
   ]
  },
  {
   "cell_type": "code",
   "execution_count": null,
   "id": "ca8b6388",
   "metadata": {},
   "outputs": [],
   "source": [
    "df = prepare_data(df, verbose=False)\n",
    "df.head()"
   ]
  },
  {
   "cell_type": "code",
   "execution_count": null,
   "id": "f2f49100",
   "metadata": {},
   "outputs": [],
   "source": [
    "risk = type(model.predict(df)[0])\n",
    "risk"
   ]
  },
  {
   "cell_type": "code",
   "execution_count": null,
   "id": "b1791fe6",
   "metadata": {},
   "outputs": [],
   "source": [
    "from ml.utlis import optimize_loan_parameters"
   ]
  },
  {
   "cell_type": "code",
   "execution_count": null,
   "id": "f44d945b",
   "metadata": {},
   "outputs": [],
   "source": [
    "optimized = optimize_loan_parameters(df, bst=model)\n",
    "optimized"
   ]
  },
  {
   "cell_type": "code",
   "execution_count": null,
   "id": "f8df22f8",
   "metadata": {},
   "outputs": [],
   "source": [
    "model.predict_proba(df)[0]"
   ]
  },
  {
   "cell_type": "code",
   "execution_count": null,
   "id": "3dfbd4e9",
   "metadata": {},
   "outputs": [],
   "source": [
    "from loans.models import Loan"
   ]
  },
  {
   "cell_type": "code",
   "execution_count": null,
   "id": "99e70388",
   "metadata": {},
   "outputs": [],
   "source": [
    "Loan.objects.prefetch_related('riskassessement').all()[:100]"
   ]
  },
  {
   "cell_type": "code",
   "execution_count": null,
   "id": "73b41d83",
   "metadata": {},
   "outputs": [],
   "source": []
  }
 ],
 "metadata": {
  "kernelspec": {
   "display_name": "Python 3 (ipykernel)",
   "language": "python",
   "name": "python3"
  },
  "language_info": {
   "codemirror_mode": {
    "name": "ipython",
    "version": 3
   },
   "file_extension": ".py",
   "mimetype": "text/x-python",
   "name": "python",
   "nbconvert_exporter": "python",
   "pygments_lexer": "ipython3",
   "version": "3.10.6"
  }
 },
 "nbformat": 4,
 "nbformat_minor": 5
}
